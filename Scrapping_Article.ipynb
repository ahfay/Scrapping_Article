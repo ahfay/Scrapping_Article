{
  "nbformat": 4,
  "nbformat_minor": 0,
  "metadata": {
    "colab": {
      "provenance": []
    },
    "kernelspec": {
      "name": "python3",
      "display_name": "Python 3"
    },
    "language_info": {
      "name": "python"
    }
  },
  "cells": [
    {
      "cell_type": "code",
      "execution_count": null,
      "metadata": {
        "colab": {
          "base_uri": "https://localhost:8080/"
        },
        "id": "UlN1PRUHWnLn",
        "outputId": "57397683-69ce-4ccd-df56-6c0710bca4ce"
      },
      "outputs": [
        {
          "output_type": "stream",
          "name": "stdout",
          "text": [
            "Looking in indexes: https://pypi.org/simple, https://us-python.pkg.dev/colab-wheels/public/simple/\n",
            "Collecting newspaper3k\n",
            "  Downloading newspaper3k-0.2.8-py3-none-any.whl (211 kB)\n",
            "\u001b[K     |████████████████████████████████| 211 kB 5.2 MB/s \n",
            "\u001b[?25hRequirement already satisfied: Pillow>=3.3.0 in /usr/local/lib/python3.7/dist-packages (from newspaper3k) (7.1.2)\n",
            "Requirement already satisfied: PyYAML>=3.11 in /usr/local/lib/python3.7/dist-packages (from newspaper3k) (6.0)\n",
            "Collecting feedparser>=5.2.1\n",
            "  Downloading feedparser-6.0.10-py3-none-any.whl (81 kB)\n",
            "\u001b[K     |████████████████████████████████| 81 kB 7.9 MB/s \n",
            "\u001b[?25hCollecting feedfinder2>=0.0.4\n",
            "  Downloading feedfinder2-0.0.4.tar.gz (3.3 kB)\n",
            "Collecting jieba3k>=0.35.1\n",
            "  Downloading jieba3k-0.35.1.zip (7.4 MB)\n",
            "\u001b[K     |████████████████████████████████| 7.4 MB 41.5 MB/s \n",
            "\u001b[?25hRequirement already satisfied: requests>=2.10.0 in /usr/local/lib/python3.7/dist-packages (from newspaper3k) (2.23.0)\n",
            "Requirement already satisfied: beautifulsoup4>=4.4.1 in /usr/local/lib/python3.7/dist-packages (from newspaper3k) (4.6.3)\n",
            "Collecting tldextract>=2.0.1\n",
            "  Downloading tldextract-3.4.0-py3-none-any.whl (93 kB)\n",
            "\u001b[K     |████████████████████████████████| 93 kB 2.1 MB/s \n",
            "\u001b[?25hCollecting cssselect>=0.9.2\n",
            "  Downloading cssselect-1.1.0-py2.py3-none-any.whl (16 kB)\n",
            "Requirement already satisfied: python-dateutil>=2.5.3 in /usr/local/lib/python3.7/dist-packages (from newspaper3k) (2.8.2)\n",
            "Requirement already satisfied: nltk>=3.2.1 in /usr/local/lib/python3.7/dist-packages (from newspaper3k) (3.7)\n",
            "Requirement already satisfied: lxml>=3.6.0 in /usr/local/lib/python3.7/dist-packages (from newspaper3k) (4.9.1)\n",
            "Collecting tinysegmenter==0.3\n",
            "  Downloading tinysegmenter-0.3.tar.gz (16 kB)\n",
            "Requirement already satisfied: six in /usr/local/lib/python3.7/dist-packages (from feedfinder2>=0.0.4->newspaper3k) (1.15.0)\n",
            "Collecting sgmllib3k\n",
            "  Downloading sgmllib3k-1.0.0.tar.gz (5.8 kB)\n",
            "Requirement already satisfied: click in /usr/local/lib/python3.7/dist-packages (from nltk>=3.2.1->newspaper3k) (7.1.2)\n",
            "Requirement already satisfied: joblib in /usr/local/lib/python3.7/dist-packages (from nltk>=3.2.1->newspaper3k) (1.2.0)\n",
            "Requirement already satisfied: regex>=2021.8.3 in /usr/local/lib/python3.7/dist-packages (from nltk>=3.2.1->newspaper3k) (2022.6.2)\n",
            "Requirement already satisfied: tqdm in /usr/local/lib/python3.7/dist-packages (from nltk>=3.2.1->newspaper3k) (4.64.1)\n",
            "Requirement already satisfied: certifi>=2017.4.17 in /usr/local/lib/python3.7/dist-packages (from requests>=2.10.0->newspaper3k) (2022.9.24)\n",
            "Requirement already satisfied: idna<3,>=2.5 in /usr/local/lib/python3.7/dist-packages (from requests>=2.10.0->newspaper3k) (2.10)\n",
            "Requirement already satisfied: urllib3!=1.25.0,!=1.25.1,<1.26,>=1.21.1 in /usr/local/lib/python3.7/dist-packages (from requests>=2.10.0->newspaper3k) (1.24.3)\n",
            "Requirement already satisfied: chardet<4,>=3.0.2 in /usr/local/lib/python3.7/dist-packages (from requests>=2.10.0->newspaper3k) (3.0.4)\n",
            "Requirement already satisfied: filelock>=3.0.8 in /usr/local/lib/python3.7/dist-packages (from tldextract>=2.0.1->newspaper3k) (3.8.0)\n",
            "Collecting requests-file>=1.4\n",
            "  Downloading requests_file-1.5.1-py2.py3-none-any.whl (3.7 kB)\n",
            "Building wheels for collected packages: tinysegmenter, feedfinder2, jieba3k, sgmllib3k\n",
            "  Building wheel for tinysegmenter (setup.py) ... \u001b[?25l\u001b[?25hdone\n",
            "  Created wheel for tinysegmenter: filename=tinysegmenter-0.3-py3-none-any.whl size=13553 sha256=6f8ec3fb13fb3ce16a7c99f77fa6eab281c1f07e7b5d54ce5bc8599385b33042\n",
            "  Stored in directory: /root/.cache/pip/wheels/df/67/41/faca10fa501ca010be41b49d40360c2959e1c4f09bcbfa37fa\n",
            "  Building wheel for feedfinder2 (setup.py) ... \u001b[?25l\u001b[?25hdone\n",
            "  Created wheel for feedfinder2: filename=feedfinder2-0.0.4-py3-none-any.whl size=3357 sha256=e4f50ddd6fdaeb7711fe3a33472930aaa65c4981c231045d7a88d818f205df47\n",
            "  Stored in directory: /root/.cache/pip/wheels/7f/d4/8f/6e2ca54744c9d7292d88ddb8d42876bcdab5e6d84a21c10346\n",
            "  Building wheel for jieba3k (setup.py) ... \u001b[?25l\u001b[?25hdone\n",
            "  Created wheel for jieba3k: filename=jieba3k-0.35.1-py3-none-any.whl size=7398404 sha256=3f3e89f6bbd0ada4251a5b38d140b2cb01287f699cfdbe7dc07e8b60bf2db8e6\n",
            "  Stored in directory: /root/.cache/pip/wheels/4c/91/46/3c208287b726df325a5979574324878b679116e4baae1af3c3\n",
            "  Building wheel for sgmllib3k (setup.py) ... \u001b[?25l\u001b[?25hdone\n",
            "  Created wheel for sgmllib3k: filename=sgmllib3k-1.0.0-py3-none-any.whl size=6066 sha256=defce8aa24b1b9bb6f6df76bf0ba573a39963e5074753f54300f21c23ad465ea\n",
            "  Stored in directory: /root/.cache/pip/wheels/73/ad/a4/0dff4a6ef231fc0dfa12ffbac2a36cebfdddfe059f50e019aa\n",
            "Successfully built tinysegmenter feedfinder2 jieba3k sgmllib3k\n",
            "Installing collected packages: sgmllib3k, requests-file, tldextract, tinysegmenter, jieba3k, feedparser, feedfinder2, cssselect, newspaper3k\n",
            "Successfully installed cssselect-1.1.0 feedfinder2-0.0.4 feedparser-6.0.10 jieba3k-0.35.1 newspaper3k-0.2.8 requests-file-1.5.1 sgmllib3k-1.0.0 tinysegmenter-0.3 tldextract-3.4.0\n"
          ]
        }
      ],
      "source": [
        "pip install newspaper3k"
      ]
    },
    {
      "cell_type": "code",
      "source": [
        "from newspaper import Article\n",
        "url = 'https://sport.detik.com/sepakbola/liga-indonesia/d-6355061/jokowi-bersama-fifa-kasih-kode-rombak-total-pssi'\n",
        "artikel = Article(url)\n",
        "artikel.download()"
      ],
      "metadata": {
        "id": "YkMEkai2Xgad"
      },
      "execution_count": null,
      "outputs": []
    },
    {
      "cell_type": "code",
      "source": [
        "artikel.parse()\n",
        "txt = artikel.text"
      ],
      "metadata": {
        "id": "XSu3itkHYerm"
      },
      "execution_count": null,
      "outputs": []
    },
    {
      "cell_type": "code",
      "source": [
        "txt = txt.encode('ascii','ignore').decode('utf-8')\n",
        "print(txt)"
      ],
      "metadata": {
        "colab": {
          "base_uri": "https://localhost:8080/"
        },
        "id": "sQTuCLUjYudD",
        "outputId": "88a9d4ad-ba4a-4373-bc57-1b567f45a2cb"
      },
      "execution_count": null,
      "outputs": [
        {
          "output_type": "stream",
          "name": "stdout",
          "text": [
            "Presiden Jokowi bertemu dengan Presiden FIFA Gianni Infantino berjanji. Mereka akan mengkaji ulang stakeholder sepakbola di Indonesia, kode buat PSSI?\n",
            "\n",
            "Presiden Joko Widodo bertemu Presiden FIFA Gianni Infantino siang ini di Istana Negara, Jakarta, Selasa (18/10) siang WIB. Keduanya memberikan pernyataan terkait Tragedi Kanjuruhan dan pembangunan sepakbola Indonesia\n",
            "\n",
            "Ada satu pernyataan Presiden Jokowi yang menarik. Jokowi menyinggung para pemangku kepentingan di sepakbola Indonesia!\n",
            "\n",
            "ADVERTISEMENT SCROLL TO RESUME CONTENT\n",
            "\n",
            "\"Kami juga secara bersama-sama mengkaji ulang para pemangku kepentingan persepakbolaan Indonesia. Pemerintah bersama dengan FIFA ingin memastikan proses transformasi sepakbola Indonesia berjalan sesuai dengan standar yang ditetapkan,\" kata Jokowi dalam jumpa pers di Istana Merdeka, Jakarta Pusat, Selasa (18/10/2022).\n",
            "\n",
            "Presiden FIFA Gianni Infantino dan Jokowi (Foto: AP/Achmad Ibrahim)\n",
            "\n",
            "Merujuk pada kata-kata 'pemangku kepentingan', maka dalam hal ini mungkin bisa disematkan kepada Persatuan Sepak Bola Seluruh Indonesia (PSSI). Tak ayal, PSSI kini begitu disorot terkait Tragedi Kanjuruhan.\n",
            "\n",
            "Tim Gabungan Independen Pencari Fakta Tragedi Kanjuruhan (TGIPF) yang dipimpin Menko Polhukam Mahfud MD sudah merilis hasil investigasi. Setidaknya ada delapan 'dosa' PSSI dalam tragedi yang menewaskan 133 orang tersebut selepas laga Arema FC kontra Persebaya Surabaya.\n",
            "\n",
            "Beberapa poin di antaranya seperti tidak menyiapkan personel match commissioner yang memahami tentang tugas dan tanggungjawabnya, tidak menyiapkan personel match commissioner yang memahami tentang tugas dan tanggungjawabnya, Tidak melakukan sosialisasi/ pelatihan yang memadai tentang regulasi FIFA dan PSSI kepada penyelenggara pertandingan, dan adanya keengganan PSSI untuk bertanggungjawab terhadap berbagai insiden/ musibah dalam penyelenggaraan pertandingan yang tercermin di dalam regulasi PSSI (regulasi keselamatan dan keamanan PSSI 2021) yang membebaskan diri dari tanggung jawab dalam pelaksanaan pertandingan\n",
            "\n",
            "Kembali ke Jokowi. Dirinya dan Gianni Infantino sepakat, kalau ke depannya tidak ada lagi tragedi berdarah di sepakbola Indonesia!\n",
            "\n",
            "\"Kami bersepakat bahwa tragedi ini menjadi pelajaran yang sangat penting bagi persepakbolaan Indonesia dan juga bagi dunia sepakbola dan jangan sampai kejadian ini terulang kembali jangan sampai kegembiraan penonton pertandingan sepakbola berujung pada duka dan malapetaka,\" ujar Jokowi.\n"
          ]
        }
      ]
    },
    {
      "cell_type": "code",
      "source": [
        "import sys\n",
        "file = open('artikel.txt','w')\n",
        "file.write(txt)\n",
        "file.close()"
      ],
      "metadata": {
        "id": "I012dFanZB8p"
      },
      "execution_count": null,
      "outputs": []
    },
    {
      "cell_type": "code",
      "source": [
        "artikel.authors"
      ],
      "metadata": {
        "colab": {
          "base_uri": "https://localhost:8080/"
        },
        "id": "9VsfsSTeZm32",
        "outputId": "dce5befa-734e-4928-b090-9b026908adcd"
      },
      "execution_count": null,
      "outputs": [
        {
          "output_type": "execute_result",
          "data": {
            "text/plain": [
              "['Afif Farhan', 'Https', 'Www.Facebook.Com Detiksportcom', 'Afif Farhan -']"
            ]
          },
          "metadata": {},
          "execution_count": 6
        }
      ]
    },
    {
      "cell_type": "code",
      "source": [
        "artikel.publish_date"
      ],
      "metadata": {
        "colab": {
          "base_uri": "https://localhost:8080/"
        },
        "id": "ZEK6-VM0Z1Nh",
        "outputId": "fd14ec1c-72fd-4458-cef3-1e9ce4e1ac11"
      },
      "execution_count": null,
      "outputs": [
        {
          "output_type": "execute_result",
          "data": {
            "text/plain": [
              "datetime.datetime(2022, 10, 18, 15, 10, 15)"
            ]
          },
          "metadata": {},
          "execution_count": 8
        }
      ]
    },
    {
      "cell_type": "code",
      "source": [
        "artikel.keywords"
      ],
      "metadata": {
        "colab": {
          "base_uri": "https://localhost:8080/"
        },
        "id": "lndjcjJrZ4eP",
        "outputId": "6851a423-885b-44a8-ea0b-1bcd7b48f7ad"
      },
      "execution_count": null,
      "outputs": [
        {
          "output_type": "execute_result",
          "data": {
            "text/plain": [
              "[]"
            ]
          },
          "metadata": {},
          "execution_count": 9
        }
      ]
    },
    {
      "cell_type": "code",
      "source": [
        "artikel.summary"
      ],
      "metadata": {
        "colab": {
          "base_uri": "https://localhost:8080/",
          "height": 35
        },
        "id": "sxKCFeVDaAkZ",
        "outputId": "f3fc930d-12c3-437e-cc60-db028e4f1a24"
      },
      "execution_count": null,
      "outputs": [
        {
          "output_type": "execute_result",
          "data": {
            "text/plain": [
              "''"
            ],
            "application/vnd.google.colaboratory.intrinsic+json": {
              "type": "string"
            }
          },
          "metadata": {},
          "execution_count": 10
        }
      ]
    },
    {
      "cell_type": "code",
      "source": [
        "import newspaper\n",
        "cnn_paper = newspaper.build('https://www.cnnindonesia.com/')\n",
        "for berita in cnn_paper.articles:\n",
        "  print(berita.url) "
      ],
      "metadata": {
        "colab": {
          "base_uri": "https://localhost:8080/"
        },
        "id": "_ZlJn5m0aDI_",
        "outputId": "15d457a7-bb5f-4e18-935c-76f0e83cea5c"
      },
      "execution_count": null,
      "outputs": [
        {
          "output_type": "stream",
          "name": "stderr",
          "text": [
            "CRITICAL:newspaper.network:[REQUEST FAILED] 404 Client Error: Not Found for url: https://www.cnnindonesia.com/feed\n",
            "CRITICAL:newspaper.network:[REQUEST FAILED] 404 Client Error: Not Found for url: https://www.cnnindonesia.com/feeds\n"
          ]
        },
        {
          "output_type": "stream",
          "name": "stdout",
          "text": [
            "https://www.cnnindonesia.com/nasional/20221018190313-20-862277/soal-banjir-bupati-jembrana-dalami-dugaan-pelanggaran-izin-di-hutan\n",
            "https://www.cnnindonesia.com/nasional/20221018183344-20-862291/11-anak-di-sumut-alami-gagal-ginjal-akut-7-meninggal-dunia\n",
            "https://www.cnnindonesia.com/nasional/20221018193858-12-862302/polisi-amankan-gudang-timbun-solar-bersubsidi-total-capai-390-ton\n",
            "https://www.cnnindonesia.com/internasional/20221018203814-113-862324/menhan-korsel-pastikan-bts-masih-bisa-tampil-meski-ikut-wamil\n",
            "https://www.cnnindonesia.com/internasional/20221018195134-106-862307/media-asing-soroti-ri-bakal-hancurkan-stadion-kanjuruhan\n",
            "https://www.cnnindonesia.com/internasional/20221018184751-134-862270/ukraina-kritis-digempur-habis-rusia-siap-siap-pemadaman-listrik\n",
            "https://www.cnnindonesia.com/ekonomi/20221018203117-532-862323/fitch-peringatkan-resesi-as-dimulai-maret-2023\n",
            "https://www.cnnindonesia.com/ekonomi/20221018200213-532-862311/rs-hermina-bakal-hadir-di-ikn-nusantara-mulai-2024\n",
            "https://www.cnnindonesia.com/ekonomi/20221018195256-92-862308/jokowi-ungkap-beda-ikn-dengan-ibu-kota-negara-lain\n",
            "https://www.cnnindonesia.com/olahraga/20221018202301-142-862319/pssi-respons-rekomendasi-tgipf-tragedi-kanjuruhan\n",
            "https://www.cnnindonesia.com/olahraga/20221018200127-183-862310/dari-mimpi-kecil-sinsamut-kini-jadi-miliuner-di-one-championship\n",
            "https://www.cnnindonesia.com/olahraga/20221018150637-142-862166/pernyataan-lengkap-presiden-fifa-infantino-usai-bertemu-jokowi\n",
            "https://www.cnnindonesia.com/teknologi/20221018084043-388-861919/video-cara-cerdik-ojek-motor-di-filipina-hadapi-banjir-30-cm\n",
            "https://www.cnnindonesia.com/teknologi/20221018170121-384-862235/perbedaan-toyota-innova-hybrid-g-v-dan-q\n",
            "https://www.cnnindonesia.com/teknologi/20221018183555-192-862267/jelang-pemilu-2024-kominfo-buat-gugus-tugas-penyapu-hoaks-di-medsos\n",
            "https://www.cnnindonesia.com/hiburan/20221018194120-234-862304/kiki-amalia-cerita-awal-bertemu-calon-suami-love-at-first-sight\n",
            "https://www.cnnindonesia.com/hiburan/20221018190011-220-862274/jakarta-film-week-sebut-mencuri-raden-saleh-standar-baru-film-lokal\n",
            "https://www.cnnindonesia.com/hiburan/20221018170952-220-862242/sinopsis-man-on-fire-bioskop-trans-tv-18-oktober-2022\n",
            "https://www.cnnindonesia.com/gaya-hidup/20221018181439-277-862264/4-alasan-ilmiah-kenapa-orang-selingkuh\n",
            "https://www.cnnindonesia.com/gaya-hidup/20221018171407-255-862245/methotrexate-obat-kanker-kedaluarsa-yang-buat-10-anak-yaman-meninggal\n",
            "https://www.cnnindonesia.com/gaya-hidup/20221018163904-269-862219/5-alasan-kamu-mesti-coba-liburan-musim-dingin-tiket-lebih-murah\n",
            "https://www.cnnindonesia.com/ekonomi/20221018204308-532-862326/eks-menkeu-sebut-ekonomi-ri-akan-melemah-tapi-tidak-negatif\n",
            "https://www.cnnindonesia.com/nasional/20221018165818-24-862230/video-momen-jendral-listyo-sigit-lantik-9-kapolda-dan-7-pati-polri\n",
            "https://www.cnnindonesia.com/nasional/20221018162607-20-862206/idai-ingatkan-menkes-hindari-penggunaan-paracetamol-cair-untuk-anak\n",
            "https://www.cnnindonesia.com/nasional/20221018192829-12-862301/advokat-alvin-lim-dijemput-kejaksaan-di-bareskrim-polri\n",
            "https://www.cnnindonesia.com/olahraga/20221018184107-142-862269/pssi-pertemuan-dengan-presiden-fifa-dramatis-dan-emosional\n",
            "https://www.cnnindonesia.com/olahraga/20221018192457-142-862290/5-hasil-pertemuan-pssi-dan-presiden-fifa\n",
            "https://www.cnnindonesia.com/nasional/20221018173759-20-862252/alasan-idai-sarankan-kemenkes-hindari-penggunaan-sirup-paracetamol\n",
            "https://www.cnnindonesia.com/ekonomi/20221018154658-92-862191/central-park-mall-dijual-rp45-triliun\n",
            "https://www.cnnindonesia.com/nasional/20221018144604-12-862159/kapolri-lantik-9-kapolda-baru-dan-7-perwira-tinggi-polri\n",
            "https://www.cnnindonesia.com/olahraga/20221018142701-142-862132/reaksi-netizen-usai-jokowi-bertemu-presiden-fifa-pssi-mana\n",
            "https://www.cnnindonesia.com/nasional/20221018141249-20-862119/korban-tewas-tragedi-kanjuruhan-bertambah-satu-total-133-meninggal\n",
            "https://www.cnnindonesia.com/nasional/20221018140607-12-862112/eggi-sudjana-minta-hakim-hadirkan-jokowi-di-sidang-ijazah-palsu\n",
            "https://www.cnnindonesia.com/nasional/20221018135015-12-862129/klaim-irjen-teddy-rugi-rp20-m-saat-operasi-narkoba-di-lcs\n",
            "https://www.cnnindonesia.com/nasional/20221018133854-12-862097/kuasa-hukum-sebut-brigjen-hendra-merasa-dibohongi-ferdy-sambo\n",
            "https://www.cnnindonesia.com/internasional/20221018121703-113-862042/banjir-bandang-terjang-australia-500-rumah-tergenang\n",
            "https://www.cnnindonesia.com/teknologi/20221018185542-192-862272/kominfo-sebar-polisi-hapus-konten-hoaks-pemilu-2024\n",
            "https://www.cnnindonesia.com/olahraga/20221018171548-142-862241/berapa-lama-fifa-tinggal-di-indonesia\n",
            "https://www.cnnindonesia.com/hiburan/20221018204930-234-862337/hybe-siapkan-agenda-tiap-member-bts-hingga-paruh-pertama-2023\n",
            "https://www.cnnindonesia.com/nasional/20221018203813-12-862325/polda-sumsel-cek-soal-viral-isu-kapolres-muara-enim-selingkuh\n",
            "https://www.cnnindonesia.com/nasional/20220731102457-506-828319/kolong-kota-perempuan-penantang-tong-setan\n",
            "https://www.cnnindonesia.com/ekonomi/20221014151922-92-860649/yuri-milner-konglomerat-berdarah-yahudi-yang-ogah-jadi-warga-rusia\n",
            "https://www.cnnindonesia.com/ekonomi/20221007180806-92-857797/bang-si-hyuk-produser-lagu-bts-jadi-crazy-rich-korsel\n",
            "https://www.cnnindonesia.com/ekonomi/20220916150535-92-848841/sir-jim-ratcliffe-konglomerat-inggris-yang-doyan-beli-klub-bola\n",
            "https://www.cnnindonesia.com/olahraga/20221018163238-144-862209/foto-neymar-hadiri-sidang-dugaan-korupsi-di-barcelona\n",
            "https://www.cnnindonesia.com/gaya-hidup/20191126165018-272-451652/foto-ironi-rumah-rumah-ufo-di-taiwan-telantar-dan-penuh-misteri\n",
            "https://www.cnnindonesia.com/teknologi/20221017094033-386-861414/foto-oslo-kejar-transportasi-publik-semua-listrik-pertama-di-dunia\n",
            "https://www.cnnindonesia.com/gaya-hidup/20221018195932-255-862313/fase-phallic-saat-si-kecil-senang-bermain-dengan-kelaminnya\n",
            "https://www.cnnindonesia.com/nasional/20221018194911-12-862306/bupati-purwakarta-resmi-polisikan-akun-youtube-diduga-sebar-hoaks\n",
            "https://www.cnnindonesia.com/hiburan/20221014162049-220-860698/review-film-smile\n"
          ]
        }
      ]
    },
    {
      "cell_type": "code",
      "source": [
        "for kategori in cnn_paper.category_urls():\n",
        "  print(kategori)"
      ],
      "metadata": {
        "colab": {
          "base_uri": "https://localhost:8080/"
        },
        "id": "hErzmKTwatTh",
        "outputId": "8fd24fcc-08ef-4b30-8cb0-f613491029fb"
      },
      "execution_count": null,
      "outputs": [
        {
          "output_type": "stream",
          "name": "stdout",
          "text": [
            "https://www.cnnindonesia.com/\n",
            "http://app.cnnindonesia.com\n",
            "https://www.cnnindonesia.com\n"
          ]
        }
      ]
    },
    {
      "cell_type": "code",
      "source": [
        "cnn_artikel = cnn_paper.articles[5]\n",
        "cnn_artikel.download()\n",
        "cnn_artikel.parse()"
      ],
      "metadata": {
        "id": "5eVVtkHSbHry"
      },
      "execution_count": null,
      "outputs": []
    },
    {
      "cell_type": "code",
      "source": [
        "txt_cnn = cnn_artikel.text\n",
        "txt_cnn = txt_cnn.encode('ascii','ignore').decode('utf-8')\n",
        "print(txt_cnn)"
      ],
      "metadata": {
        "colab": {
          "base_uri": "https://localhost:8080/"
        },
        "id": "1xZ_NRtfb5au",
        "outputId": "32b25898-245d-4569-ef39-393663632ef3"
      },
      "execution_count": null,
      "outputs": [
        {
          "output_type": "stream",
          "name": "stdout",
          "text": [
            "--\n",
            "\n",
            "Ukraina kritis akibat gempuran Rusia di salah satu fasilitas listrik di Kyiv pada Selasa (18/10) yang menewaskan dua orang.\n",
            "\n",
            "\"Situasi kritis di seluruh negara karena kawasan-kawasan kami bergantung satu sama lain,\" ujar wakil kepala kantor kepresidenan Ukraina, Kyrylo Tymoshenko, seperti dikutip AFP.\n",
            "\n",
            "Ia kemudian berkata, \"Seluruh negara harus bersiap untuk pemadaman listrik, air, dan pemanas.\"\n",
            "\n",
            "ADVERTISEMENT SCROLL TO RESUME CONTENT\n",
            "\n",
            "Ukraina menyerukan persiapan ini setelah Rusia menggempur salah satu fasilitas listrik di timur Kyiv.\n",
            "\n",
            "\"Pada 18 Oktober 2022, Angkatan Bersenjata Rusia melancarkan serangan rudal ke fasilitas pasokan listrik di tepi timur ibu kota,\" demikian pernyataan Kementerian Pertahanan Ukraina.\n",
            "\n",
            "Kemenhan Rusia juga mengonfirmasi bahwa mereka menggempur sistem energi Ukraina menggunakan rudal.\n",
            "\n",
            "\"Dalam sehari belakangan, angkatan bersenjata Rusia terus menyerang komando militer dan sistem energi Ukraina dengan senjata jarak jauh dan presisi tinggi,\" demikian pernyataan Kemhan Rusia.\n",
            "\n",
            "Presiden Volodymyr Zelensky mengatakan bahwa secara keseluruhan, gempuran Rusia dalam beberapa hari belakangan menghancurkan sepertiga pusat pasokan listrik Ukraina.\n",
            "\n",
            "\"Sejak 10 Oktober, 30 persen pusat listrik Ukraina hancur, menyebabkan pemadaman masif di seluruh negeri,\" ucap Zelensky.\n",
            "\n",
            "Meski demikian, Zelensky menegaskan bahwa \"tak ada ruang untuk negosiasi dengan rezim [Presiden Rusia, Vladimir] Putin.\"\n",
            "\n",
            "[Gambas:Video CNN]\n",
            "\n",
            "Belakangan, Rusia memang menggencarkan serangan di berbagai kota Ukraina, termasuk Kyiv.\n",
            "\n",
            "Putin mengamuk setelah jembatan yang menghubungkan Rusia dengan Crimea rusak akibat ledakan pada dua pekan lalu.\n",
            "\n",
            "Ia menuding Ukraina sebagai dalang di balik ledakan itu. Ukraina sendiri tak mengakui, tapi mereka memang sudah lama mengincar jembatan tersebut.\n"
          ]
        }
      ]
    },
    {
      "cell_type": "code",
      "source": [
        "f = open('artikel_CNN.txt','w')\n",
        "f.write(txt_cnn)\n",
        "f.close()"
      ],
      "metadata": {
        "id": "suPjrzrwcTVC"
      },
      "execution_count": null,
      "outputs": []
    }
  ]
}